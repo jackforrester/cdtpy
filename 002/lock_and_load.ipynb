{
 "cells": [
  {
   "cell_type": "code",
   "execution_count": 1,
   "metadata": {
    "collapsed": false
   },
   "outputs": [
    {
     "name": "stdout",
     "output_type": "stream",
     "text": [
      "Populating the interactive namespace from numpy and matplotlib\n"
     ]
    }
   ],
   "source": [
    "%pylab inline"
   ]
  },
  {
   "cell_type": "code",
   "execution_count": 2,
   "metadata": {
    "collapsed": true
   },
   "outputs": [],
   "source": [
    "import csv #you'll need this!"
   ]
  },
  {
   "cell_type": "code",
   "execution_count": 3,
   "metadata": {
    "collapsed": true
   },
   "outputs": [],
   "source": [
    "f = open('band_gap.csv', 'rb') #open your file\n",
    "reader = csv.reader(f) #read your file"
   ]
  },
  {
   "cell_type": "code",
   "execution_count": 4,
   "metadata": {
    "collapsed": true
   },
   "outputs": [],
   "source": [
    "#strip out the headers from the file\n",
    "headers = reader.next()"
   ]
  },
  {
   "cell_type": "code",
   "execution_count": 5,
   "metadata": {
    "collapsed": false
   },
   "outputs": [
    {
     "data": {
      "text/plain": [
       "['$O_2$ $pp.$ $(\\\\%)$', '$E_G$ $(eV)$']"
      ]
     },
     "execution_count": 5,
     "metadata": {},
     "output_type": "execute_result"
    }
   ],
   "source": [
    "headers"
   ]
  },
  {
   "cell_type": "code",
   "execution_count": 6,
   "metadata": {
    "collapsed": false
   },
   "outputs": [],
   "source": [
    "#read the remaining data to a single list object\n",
    "data = []\n",
    "for line in reader:\n",
    "    data.append(line)"
   ]
  },
  {
   "cell_type": "code",
   "execution_count": 7,
   "metadata": {
    "collapsed": false
   },
   "outputs": [
    {
     "data": {
      "text/plain": [
       "[['0', '2.49'],\n",
       " ['2', '2.58'],\n",
       " ['4', '2.66'],\n",
       " ['6', '2.72'],\n",
       " ['8', '2.96'],\n",
       " ['10', '3.13']]"
      ]
     },
     "execution_count": 7,
     "metadata": {},
     "output_type": "execute_result"
    }
   ],
   "source": [
    "data"
   ]
  },
  {
   "cell_type": "code",
   "execution_count": 8,
   "metadata": {
    "collapsed": true
   },
   "outputs": [],
   "source": [
    "#for us to use this data we need to transpose it\n",
    "#and convert all values to the float data type\n",
    "data = transpose(data)"
   ]
  },
  {
   "cell_type": "code",
   "execution_count": 9,
   "metadata": {
    "collapsed": false
   },
   "outputs": [],
   "source": [
    "data =[[float(y) for y in x] for x in data]"
   ]
  },
  {
   "cell_type": "code",
   "execution_count": 10,
   "metadata": {
    "collapsed": false
   },
   "outputs": [
    {
     "data": {
      "text/plain": [
       "[[0.0, 2.0, 4.0, 6.0, 8.0, 10.0], [2.49, 2.58, 2.66, 2.72, 2.96, 3.13]]"
      ]
     },
     "execution_count": 10,
     "metadata": {},
     "output_type": "execute_result"
    }
   ],
   "source": [
    "data\n",
    "#much better"
   ]
  },
  {
   "cell_type": "code",
   "execution_count": 11,
   "metadata": {
    "collapsed": false
   },
   "outputs": [],
   "source": [
    "x = data[0]\n",
    "y = data[1]"
   ]
  },
  {
   "cell_type": "code",
   "execution_count": 13,
   "metadata": {
    "collapsed": false,
    "scrolled": true
   },
   "outputs": [
    {
     "data": {
      "text/plain": [
       "<matplotlib.text.Text at 0x7f06abfd1b90>"
      ]
     },
     "execution_count": 13,
     "metadata": {},
     "output_type": "execute_result"
    },
    {
     "data": {
      "image/png": "[encoded data removed]",
      "text/plain": [
       "<matplotlib.figure.Figure at 0x7f06ac0a4210>"
      ]
     },
     "metadata": {},
     "output_type": "display_data"
    }
   ],
   "source": [
    "plot(x,y, '-o')\n",
    "#xlabel(headers[0])data:image/png;base64,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\n",
    "ylabel(headers[1])\n",
    "title('Plot of Band Gap versus Oxygen partial pressure')"
   ]
  },
  {
   "cell_type": "code",
   "execution_count": null,
   "metadata": {
    "collapsed": true
   },
   "outputs": [],
   "source": [
    "#you could write the whole thing as a single function\n",
    "def plot_file(filename):\n",
    "    f = open(filename, 'rb')\n",
    "    reader = csv.reader(f)\n",
    "    headers = reader.next()\n",
    "    data = []\n",
    "    for line in reader:\n",
    "        data.append(line)\n",
    "    data = [[float(y) for y in x] for x in transpose(data)]\n",
    "    plot(data[0], data[1], '-o')\n",
    "    xlabel(headers[0])\n",
    "    ylabel(headers[1])\n",
    "    "
   ]
  },
  {
   "cell_type": "code",
   "execution_count": null,
   "metadata": {
    "collapsed": false
   },
   "outputs": [],
   "source": [
    "#and then plota any data using the following one-liner\n",
    "plot_file('band_gap.csv')"
   ]
  },
  {
   "cell_type": "code",
   "execution_count": null,
   "metadata": {
    "collapsed": true
   },
   "outputs": [],
   "source": []
  }
 ],
 "metadata": {
  "kernelspec": {
   "display_name": "Python 2",
   "language": "python",
   "name": "python2"
  },
  "language_info": {
   "codemirror_mode": {
    "name": "ipython",
    "version": 2
   },
   "file_extension": ".py",
   "mimetype": "text/x-python",
   "name": "python",
   "nbconvert_exporter": "python",
   "pygments_lexer": "ipython2",
   "version": "2.7.6"
  }
 },
 "nbformat": 4,
 "nbformat_minor": 0
}
