{
 "cells": [
  {
   "cell_type": "markdown",
   "metadata": {},
   "source": [
    "<h1>Splitsville</h1>"
   ]
  },
  {
   "cell_type": "code",
   "execution_count": 21,
   "metadata": {
    "collapsed": false
   },
   "outputs": [
    {
     "name": "stdout",
     "output_type": "stream",
     "text": [
      "Using matplotlib backend: TkAgg\n",
      "Populating the interactive namespace from numpy and matplotlib\n"
     ]
    }
   ],
   "source": [
    "%pylab"
   ]
  },
  {
   "cell_type": "code",
   "execution_count": 22,
   "metadata": {
    "collapsed": true
   },
   "outputs": [],
   "source": [
    "import csv"
   ]
  },
  {
   "cell_type": "markdown",
   "metadata": {},
   "source": [
    "<h3>Objective 1:</h3>\n",
    "\n",
    "Split the file 'raw_data.csv' into separate files that each contain a single x (wavelength) and y (transmittance) column."
   ]
  },
  {
   "cell_type": "code",
   "execution_count": 23,
   "metadata": {
    "collapsed": false
   },
   "outputs": [],
   "source": [
    "f = open('raw_data.csv', 'rb')\n",
    "reader = csv.reader(f)\n",
    "data = []\n",
    "for line in reader:\n",
    "    data.append(line)\n",
    "data = [[float(y) for y in x] for x in transpose(data)]"
   ]
  },
  {
   "cell_type": "code",
   "execution_count": 24,
   "metadata": {
    "collapsed": false
   },
   "outputs": [
    {
     "name": "stdout",
     "output_type": "stream",
     "text": [
      "[-0.039, -0.031, -0.023, -0.027, -0.023, -0.019, -0.015, -0.012, -0.009, -0.006, -0.01, 0.006, 0.005, 0.027, 0.028, 0.053, 0.061, 0.073, 0.094, 0.121, 0.142, 0.185, 0.216, 0.267, 0.324, 0.38, 0.484, 0.629, 0.823, 1.211, 1.864, 2.959, 4.855, 7.803, 11.64, 17.012, 23.509, 30.78, 38.875, 47.593, 55.782, 61.27, 63.961, 63.998, 62.584, 61.208, 60.961, 62.069, 64.158, 67.377, 71.531, 75.86, 79.71, 83.153, 85.065, 85.385, 84.019, 82.72, 79.552, 76.387, 73.346, 70.67, 68.386, 66.977, 65.835, 65.66, 66.33, 67.12, 68.299, 70.3, 72.578, 75.218, 77.67, 79.144, 81.265, 83.158, 85.443, 86.552, 87.485, 87.205, 86.514, 85.821, 84.653, 82.671, 80.649, 79.068, 77.363, 75.452, 73.289, 71.244, 70.025, 68.875, 67.634, 66.921, 66.369, 66.119, 65.625, 65.567, 65.611, 65.867, 66.808, 67.525, 68.823, 69.418, 70.319, 71.35, 73.17, 74.419, 75.845, 77.352, 77.127]\n"
     ]
    }
   ],
   "source": [
    "#How many data columns do I have (including wavelength column)?\n",
    "len(data)\n",
    "print data[144]"
   ]
  },
  {
   "cell_type": "code",
   "execution_count": 25,
   "metadata": {
    "collapsed": false
   },
   "outputs": [
    {
     "name": "stdout",
     "output_type": "stream",
     "text": [
      "data/001.csv\n",
      "data/002.csv\n",
      "data/003.csv\n",
      "data/004.csv\n",
      "data/005.csv\n",
      "data/006.csv\n",
      "data/007.csv\n",
      "data/008.csv\n",
      "data/009.csv\n",
      "data/010.csv\n",
      "data/011.csv\n",
      "data/012.csv\n",
      "data/013.csv\n",
      "data/014.csv\n",
      "data/015.csv\n",
      "data/016.csv\n",
      "data/017.csv\n",
      "data/018.csv\n",
      "data/019.csv\n",
      "data/020.csv\n",
      "data/021.csv\n",
      "data/022.csv\n",
      "data/023.csv\n",
      "data/024.csv\n",
      "data/025.csv\n",
      "data/026.csv\n",
      "data/027.csv\n",
      "data/028.csv\n",
      "data/029.csv\n",
      "data/030.csv\n",
      "data/031.csv\n",
      "data/032.csv\n",
      "data/033.csv\n",
      "data/034.csv\n",
      "data/035.csv\n",
      "data/036.csv\n",
      "data/037.csv\n",
      "data/038.csv\n",
      "data/039.csv\n",
      "data/040.csv\n",
      "data/041.csv\n",
      "data/042.csv\n",
      "data/043.csv\n",
      "data/044.csv\n",
      "data/045.csv\n",
      "data/046.csv\n",
      "data/047.csv\n",
      "data/048.csv\n",
      "data/049.csv\n",
      "data/050.csv\n",
      "data/051.csv\n",
      "data/052.csv\n",
      "data/053.csv\n",
      "data/054.csv\n",
      "data/055.csv\n",
      "data/056.csv\n",
      "data/057.csv\n",
      "data/058.csv\n",
      "data/059.csv\n",
      "data/060.csv\n",
      "data/061.csv\n",
      "data/062.csv\n",
      "data/063.csv\n",
      "data/064.csv\n",
      "data/065.csv\n",
      "data/066.csv\n",
      "data/067.csv\n",
      "data/068.csv\n",
      "data/069.csv\n",
      "data/070.csv\n",
      "data/071.csv\n",
      "data/072.csv\n",
      "data/073.csv\n",
      "data/074.csv\n",
      "data/075.csv\n",
      "data/076.csv\n",
      "data/077.csv\n",
      "data/078.csv\n",
      "data/079.csv\n",
      "data/080.csv\n",
      "data/081.csv\n",
      "data/082.csv\n",
      "data/083.csv\n",
      "data/084.csv\n",
      "data/085.csv\n",
      "data/086.csv\n",
      "data/087.csv\n",
      "data/088.csv\n",
      "data/089.csv\n",
      "data/090.csv\n",
      "data/091.csv\n",
      "data/092.csv\n",
      "data/093.csv\n",
      "data/094.csv\n",
      "data/095.csv\n",
      "data/096.csv\n",
      "data/097.csv\n",
      "data/098.csv\n",
      "data/099.csv\n",
      "data/100.csv\n",
      "data/101.csv\n",
      "data/102.csv\n",
      "data/103.csv\n",
      "data/104.csv\n",
      "data/105.csv\n",
      "data/106.csv\n",
      "data/107.csv\n",
      "data/108.csv\n",
      "data/109.csv\n",
      "data/110.csv\n",
      "data/111.csv\n",
      "data/112.csv\n",
      "data/113.csv\n",
      "data/114.csv\n",
      "data/115.csv\n",
      "data/116.csv\n",
      "data/117.csv\n",
      "data/118.csv\n",
      "data/119.csv\n",
      "data/120.csv\n",
      "data/121.csv\n",
      "data/122.csv\n",
      "data/123.csv\n",
      "data/124.csv\n",
      "data/125.csv\n",
      "data/126.csv\n",
      "data/127.csv\n",
      "data/128.csv\n",
      "data/129.csv\n",
      "data/130.csv\n",
      "data/131.csv\n",
      "data/132.csv\n",
      "data/133.csv\n",
      "data/134.csv\n",
      "data/135.csv\n",
      "data/136.csv\n",
      "data/137.csv\n",
      "data/138.csv\n",
      "data/139.csv\n",
      "data/140.csv\n",
      "data/141.csv\n",
      "data/142.csv\n",
      "data/143.csv\n",
      "data/144.csv\n"
     ]
    }
   ],
   "source": [
    "headers = ['$\\\\lambda$ $(nm)$', '$T$'] #headers for top of .csv file\n",
    "for i in range (0,len(data)-1): #loop for number of data columns (not including wavelength column)\n",
    "    filename = 'data/{0}.csv'.format(str(i+1).zfill(3)) #generate three digit numbers for filename\n",
    "    newf = open(filename, 'wb')\n",
    "    writer = csv.writer(newf, delimiter=',')\n",
    "    new = transpose([data[0], data[i+1]]) #split data into single x and y column and re-transpose\n",
    "    print filename\n",
    "    \n",
    "    writer.writerow(headers) #write headers to file\n",
    "\n",
    "    #write all data to new file\n",
    "    for line in new:\n",
    "        writer.writerow(line)"
   ]
  },
  {
   "cell_type": "markdown",
   "metadata": {},
   "source": [
    "<h3>Objective 2:</h3>\n",
    "\n",
    "Plot a subset of the data files on the same figure (e.g. every twelfth file)"
   ]
  },
  {
   "cell_type": "code",
   "execution_count": 26,
   "metadata": {
    "collapsed": false
   },
   "outputs": [
    {
     "name": "stdout",
     "output_type": "stream",
     "text": [
      "144\n"
     ]
    }
   ],
   "source": [
    "#Get all the .csv filenames in folder 'data' into a list\n",
    "import glob #glob is the man for the job here\n",
    "filenames = glob.glob('data/*.csv')\n",
    "filenames.sort()\n",
    "print len(filenames)"
   ]
  },
  {
   "cell_type": "code",
   "execution_count": 27,
   "metadata": {
    "collapsed": false
   },
   "outputs": [],
   "source": [
    "#define your get_data method again\n",
    "def get_data(filename):\n",
    "    \n",
    "    data = []\n",
    "    \n",
    "    with open(filename, 'r') as f:\n",
    "        reader = csv.reader(f)\n",
    "        header = next(reader)\n",
    "        for line in reader:\n",
    "        \n",
    "                \n",
    "            data.append(line)\n",
    "    return transpose(data)\n",
    "\n",
    "    \n",
    "    "
   ]
  },
  {
   "cell_type": "code",
   "execution_count": 33,
   "metadata": {
    "collapsed": false
   },
   "outputs": [
    {
     "data": {
      "text/plain": [
       "<matplotlib.text.Text at 0x7f34f2d68bd0>"
      ]
     },
     "execution_count": 33,
     "metadata": {},
     "output_type": "execute_result"
    }
   ],
   "source": [
    "fig = figure()\n",
    "ax = fig.add_subplot(111)\n",
    "count = 0\n",
    "\n",
    "for filename in filenames[5::12]:\n",
    "      \n",
    "    data = get_data(filename)\n",
    "    l, = ax.plot(data[0], data[1], label = filename)\n",
    "    ax.legend(loc=4)\n",
    "\n",
    "ax.set_xlim([300,850])\n",
    "ax.set_ylim([0,100])\n",
    "ax.set_xlabel('$\\lambda$ $(nm)$')\n",
    "ax.set_ylabel('$T$')\n",
    "\n",
    "    \n",
    "    "
   ]
  },
  {
   "cell_type": "code",
   "execution_count": null,
   "metadata": {
    "collapsed": true
   },
   "outputs": [],
   "source": []
  },
  {
   "cell_type": "code",
   "execution_count": null,
   "metadata": {
    "collapsed": true
   },
   "outputs": [],
   "source": []
  }
 ],
 "metadata": {
  "kernelspec": {
   "display_name": "Python 2",
   "language": "python",
   "name": "python2"
  },
  "language_info": {
   "codemirror_mode": {
    "name": "ipython",
    "version": 2
   },
   "file_extension": ".py",
   "mimetype": "text/x-python",
   "name": "python",
   "nbconvert_exporter": "python",
   "pygments_lexer": "ipython2",
   "version": "2.7.6"
  }
 },
 "nbformat": 4,
 "nbformat_minor": 0
}
