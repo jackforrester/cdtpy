{
 "cells": [
  {
   "cell_type": "markdown",
   "metadata": {},
   "source": [
    "<h1>... And the Rest Is Histograms</h1>"
   ]
  },
  {
   "cell_type": "code",
   "execution_count": 1,
   "metadata": {
    "collapsed": false
   },
   "outputs": [
    {
     "name": "stdout",
     "output_type": "stream",
     "text": [
      "Populating the interactive namespace from numpy and matplotlib\n"
     ]
    }
   ],
   "source": [
    "%pylab inline"
   ]
  },
  {
   "cell_type": "markdown",
   "metadata": {},
   "source": [
    "<h3>Objective 1:</h3>\n",
    "<p>Extract cell parameters for all .txt files in 'data.zip'</p>"
   ]
  },
  {
   "cell_type": "code",
   "execution_count": 2,
   "metadata": {
    "collapsed": false
   },
   "outputs": [],
   "source": [
    "#Will re-use script from 007: Live Fast, Diode Young\n",
    "import jvrip as jv"
   ]
  },
  {
   "cell_type": "code",
   "execution_count": 16,
   "metadata": {
    "collapsed": false
   },
   "outputs": [],
   "source": [
    "#get all .txt files in directory 'data'\n",
    "import glob\n",
    "file_list = glob.glob('data/*.txt')"
   ]
  },
  {
   "cell_type": "code",
   "execution_count": 18,
   "metadata": {
    "collapsed": false
   },
   "outputs": [],
   "source": [
    "#define empty list\n",
    "cells = []\n",
    "for fname in file_list:\n",
    "    #extract params from each file and add to cells list\n",
    "    cells.append(jv.jvrip(fname))"
   ]
  },
  {
   "cell_type": "markdown",
   "metadata": {},
   "source": [
    "<h3>Objective 2:</h3>\n",
    "<p>Create a histogram of cell efficiencies</p>"
   ]
  },
  {
   "cell_type": "code",
   "execution_count": 66,
   "metadata": {
    "collapsed": true
   },
   "outputs": [],
   "source": [
    "#generate a list of cell efficiencies\n",
    "effs = []\n",
    "for cell in cells:\n",
    "    effs.append(cell.get('Eff', None))"
   ]
  },
  {
   "cell_type": "code",
   "execution_count": 67,
   "metadata": {
    "collapsed": false
   },
   "outputs": [
    {
     "data": {
      "text/plain": [
       "(array([  4.,  10.,  28.,  65.,  34.]),\n",
       " array([ 5.30389066,  5.64815324,  5.99241582,  6.33667839,  6.68094097,\n",
       "         7.02520355]),\n",
       " <a list of 5 Patch objects>)"
      ]
     },
     "execution_count": 67,
     "metadata": {},
     "output_type": "execute_result"
    },
    {
     "data": {
      "image/png": "[encoded data removed]",
      "text/plain": [
       "<matplotlib.figure.Figure at 0x7fa21a13c990>"
      ]
     },
     "metadata": {},
     "output_type": "display_data"
    }
   ],
   "source": [
    "hist(effs, bins = 5)"
   ]
  },
  {
   "cell_type": "code",
   "execution_count": 68,
   "metadata": {
    "collapsed": false
   },
   "outputs": [],
   "source": [
    "#A better way to do this is to create your own bins\n",
    "bin_list = arange(floor(min(effs)), ceil(max(effs)), 0.1)"
   ]
  },
  {
   "cell_type": "code",
   "execution_count": 72,
   "metadata": {
    "collapsed": false
   },
   "outputs": [
    {
     "data": {
      "text/plain": [
       "<matplotlib.text.Text at 0x7fa219da7690>"
      ]
     },
     "execution_count": 72,
     "metadata": {},
     "output_type": "execute_result"
    },
    {
     "data": {
      "image/png": "[encoded data removed]",
      "text/plain": [
       "<matplotlib.figure.Figure at 0x7fa219dce4d0>"
      ]
     },
     "metadata": {},
     "output_type": "display_data"
    }
   ],
   "source": [
    "hist(effs, bins=bin_list, facecolor='green')\n",
    "xlabel('Efficiency (%)')\n",
    "ylabel('Number of Cells')\n",
    "title('Histogram of {0} cell efficiencies measured from a single CdTe plate (10cm x 10cm)'.format(len(cells)))\n"
   ]
  },
  {
   "cell_type": "code",
   "execution_count": 70,
   "metadata": {
    "collapsed": false
   },
   "outputs": [
    {
     "name": "stdout",
     "output_type": "stream",
     "text": [
      "Average cell efficiency = 6.5 +/- 0.3 % (1 sd)\n"
     ]
    }
   ],
   "source": [
    "print 'Average cell efficiency = {0:.01f} +/- {1:.01f} % (1 sd)'.format(mean(effs), std(effs))"
   ]
  }
 ],
 "metadata": {
  "kernelspec": {
   "display_name": "Python 2",
   "language": "python",
   "name": "python2"
  },
  "language_info": {
   "codemirror_mode": {
    "name": "ipython",
    "version": 2
   },
   "file_extension": ".py",
   "mimetype": "text/x-python",
   "name": "python",
   "nbconvert_exporter": "python",
   "pygments_lexer": "ipython2",
   "version": "2.7.6"
  }
 },
 "nbformat": 4,
 "nbformat_minor": 0
}
