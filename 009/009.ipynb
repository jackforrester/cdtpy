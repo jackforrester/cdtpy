{
 "cells": [
  {
   "cell_type": "code",
   "execution_count": 23,
   "metadata": {
    "collapsed": false
   },
   "outputs": [
    {
     "name": "stdout",
     "output_type": "stream",
     "text": [
      "Populating the interactive namespace from numpy and matplotlib\n"
     ]
    }
   ],
   "source": [
    "%pylab inline\n",
    "import glob\n",
    "import jvrip as jv"
   ]
  },
  {
   "cell_type": "code",
   "execution_count": 24,
   "metadata": {
    "collapsed": false
   },
   "outputs": [],
   "source": [
    "file_list = glob.glob('data/*.txt')"
   ]
  },
  {
   "cell_type": "code",
   "execution_count": 41,
   "metadata": {
    "collapsed": false
   },
   "outputs": [],
   "source": [
    "def get_cells(file_list):\n",
    "    cells =[]\n",
    "    for item in file_list:\n",
    "        p = jv.jvrip(item)\n",
    "        item = item.split('/')[-1].split('.')[0]\n",
    "        item = item.split('-')\n",
    "        coords = [int(x) for x in item]\n",
    "        \n",
    "        p['x'] = coords[0]*(10/12.0)-(10/24.0)\n",
    "        \n",
    "        p['y'] = coords[1]\n",
    "        \n",
    "        cells.append(p)\n",
    "        \n",
    "    return cells"
   ]
  },
  {
   "cell_type": "code",
   "execution_count": 42,
   "metadata": {
    "collapsed": false
   },
   "outputs": [
    {
     "data": {
      "text/plain": [
       "{'Eff': 6.4529607929132169,\n",
       " 'FF': 0.52293300238981744,\n",
       " 'jsc': 18.909891095464982,\n",
       " 'voc': 0.65256525652565256,\n",
       " 'x': 4.583333333333333,\n",
       " 'y': 11}"
      ]
     },
     "execution_count": 42,
     "metadata": {},
     "output_type": "execute_result"
    }
   ],
   "source": [
    "cells = get_cells(file_list)\n",
    "cells[0]"
   ]
  },
  {
   "cell_type": "code",
   "execution_count": 43,
   "metadata": {
    "collapsed": true
   },
   "outputs": [],
   "source": [
    "def org_data(data, key):\n",
    "    fdata = []\n",
    "    for cell in data:\n",
    "        fdata.append([cell.get('x'), cell.get('y'), cell.get(key)])\n",
    "        \n",
    "    return fdata"
   ]
  },
  {
   "cell_type": "code",
   "execution_count": 53,
   "metadata": {
    "collapsed": false
   },
   "outputs": [
    {
     "name": "stdout",
     "output_type": "stream",
     "text": [
      "[[  4.58333333   4.58333333   3.75         1.25         8.75         2.08333333\n",
      "    5.41666667   7.08333333   7.91666667   2.91666667   1.25         3.75\n",
      "    8.75         0.41666667   1.25         6.25         2.91666667\n",
      "    7.91666667   6.25         5.41666667   1.25         2.08333333\n",
      "    7.91666667   4.58333333   7.91666667   6.25         2.91666667\n",
      "    4.58333333   2.08333333   2.08333333   2.91666667   2.08333333\n",
      "    2.08333333   2.08333333   3.75         3.75         6.25         0.41666667\n",
      "    7.91666667   7.08333333   1.25         7.08333333   0.41666667\n",
      "    9.58333333   7.91666667   0.41666667   8.75         4.58333333   3.75\n",
      "    3.75         5.41666667   9.58333333   6.25         9.58333333\n",
      "    2.08333333   6.25         9.58333333   1.25         6.25         9.58333333\n",
      "    5.41666667   0.41666667   4.58333333   2.08333333   0.41666667   3.75\n",
      "    5.41666667   0.41666667   7.08333333   9.58333333   7.08333333\n",
      "    4.58333333   2.08333333   7.08333333   7.91666667   0.41666667\n",
      "    4.58333333   7.08333333   2.91666667   3.75         7.08333333\n",
      "    5.41666667   7.08333333   2.91666667   2.91666667   9.58333333   3.75\n",
      "    2.91666667   8.75         9.58333333   3.75         2.08333333\n",
      "    7.91666667   1.25         2.91666667   0.41666667   2.91666667\n",
      "    5.41666667   9.58333333   0.41666667   3.75         7.08333333   1.25\n",
      "    6.25         7.91666667   5.41666667   2.08333333   7.08333333\n",
      "    5.41666667   9.58333333   8.75         8.75         8.75         1.25\n",
      "    5.41666667   6.25         0.41666667   4.58333333   8.75         4.58333333\n",
      "    9.58333333   4.58333333   2.91666667   7.91666667   6.25         8.75\n",
      "    3.75         7.08333333   0.41666667   7.91666667   2.91666667   1.25\n",
      "    8.75         8.75         5.41666667   7.91666667   1.25         6.25\n",
      "    1.25         9.58333333   8.75      ]\n",
      " [ 11.           4.          12.          10.           5.           6.\n",
      "    3.           3.           5.           9.           4.           3.\n",
      "   11.           2.          12.           6.          10.           3.\n",
      "    3.          12.           6.          10.           9.           7.\n",
      "    8.           5.           5.          12.           3.           1.\n",
      "   11.           2.           5.           7.          10.           9.\n",
      "    7.           3.          10.           8.           7.          12.\n",
      "   10.          11.           7.          12.           1.           2.\n",
      "    7.           2.           5.           3.          10.           9.\n",
      "    9.          12.           8.           1.           2.          12.\n",
      "   10.           6.           5.          11.          11.           5.\n",
      "    7.           5.           5.           2.          11.           3.\n",
      "    4.          10.           4.           8.          10.           9.\n",
      "    6.           6.           2.           4.           6.           1.\n",
      "    2.           5.           8.          12.          10.           1.\n",
      "    4.           8.          11.           3.           7.           1.\n",
      "    3.          11.           4.           7.           1.           4.\n",
      "    2.           4.           1.           8.          12.           1.\n",
      "    2.          10.           7.           8.           3.          11.\n",
      "    6.          11.           4.           6.           4.           9.\n",
      "    7.           8.           4.           2.           9.          12.\n",
      "   11.           7.           9.           6.           8.           5.\n",
      "    9.           6.           9.          12.           8.           8.\n",
      "    9.           6.           2.        ]\n",
      " [  6.45296079   5.66340463   6.26824818   6.11853869   6.4353072\n",
      "    6.53320498   6.68493989   6.06458287   6.70726408   6.53206548\n",
      "    6.41476782   6.83568702   6.32658505   6.15812603   6.07203092\n",
      "    7.01436416   6.42244973   6.24458708   6.5409624    6.37358228\n",
      "    6.36250448   6.2010183    6.53074527   7.0214311    6.65738462\n",
      "    6.90346996   6.64234261   6.36822444   6.51646774   6.47705319\n",
      "    6.24856307   6.44974123   6.52935765   6.55968496   6.58643581\n",
      "    6.67789819   7.02520355   6.30931163   6.52164707   6.75740938\n",
      "    6.43210484   6.3944956    5.77942232   6.31101785   6.61999085\n",
      "    5.97144216   5.60519619   6.58188521   6.89430203   6.75235672\n",
      "    7.01352417   6.20893433   6.6673291    6.45344009   6.37633789\n",
      "    6.40630475   6.45301569   6.2821384    5.95696125   6.29583363\n",
      "    6.70554201   6.26290426   6.92155943   6.18872215   6.02452791\n",
      "    6.87298762   7.02262146   6.3491116    6.88243205   5.92827356\n",
      "    6.46133861   6.80945267   6.41243088   6.586867     6.47340195\n",
      "    5.97967444   6.62020275   6.74685579   6.63493301   6.89133123\n",
      "    6.03224924   6.81746557   6.94515021   6.29665833   6.67285984\n",
      "    6.45705097   6.76267595   6.2349311    6.39111426   5.60658499\n",
      "    6.73985605   6.47231885   6.39943167   6.43312047   6.71974436\n",
      "    6.5287852    6.54294823   6.51997771   6.37035881   6.1678639\n",
      "    6.42142931   6.58825793   6.40227943   6.76516053   5.68123176\n",
      "    6.95083058   6.13086803   5.30389066   6.14514843   6.3764509\n",
      "    6.61845679   6.52204518   6.24444589   6.09564864   7.01853828\n",
      "    6.51958196   6.33236724   7.01058756   6.38802943   6.71233066\n",
      "    6.51830878   6.95728396   6.51180573   5.62054139   6.78490782\n",
      "    6.28373821   6.40489751   6.85939186   5.70753882   6.58878925\n",
      "    6.61648531   6.50116665   6.41342639   6.5073955    6.85457103\n",
      "    6.3779386    6.20557442   6.91497703   5.85151118   6.52504535\n",
      "    5.90456873]]\n",
      "[ 6.45296079  5.66340463  6.26824818  6.11853869  6.4353072   6.53320498\n",
      "  6.68493989  6.06458287  6.70726408  6.53206548  6.41476782  6.83568702\n",
      "  6.32658505  6.15812603  6.07203092  7.01436416  6.42244973  6.24458708\n",
      "  6.5409624   6.37358228  6.36250448  6.2010183   6.53074527  7.0214311\n",
      "  6.65738462  6.90346996  6.64234261  6.36822444  6.51646774  6.47705319\n",
      "  6.24856307  6.44974123  6.52935765  6.55968496  6.58643581  6.67789819\n",
      "  7.02520355  6.30931163  6.52164707  6.75740938  6.43210484  6.3944956\n",
      "  5.77942232  6.31101785  6.61999085  5.97144216  5.60519619  6.58188521\n",
      "  6.89430203  6.75235672  7.01352417  6.20893433  6.6673291   6.45344009\n",
      "  6.37633789  6.40630475  6.45301569  6.2821384   5.95696125  6.29583363\n",
      "  6.70554201  6.26290426  6.92155943  6.18872215  6.02452791  6.87298762\n",
      "  7.02262146  6.3491116   6.88243205  5.92827356  6.46133861  6.80945267\n",
      "  6.41243088  6.586867    6.47340195  5.97967444  6.62020275  6.74685579\n",
      "  6.63493301  6.89133123  6.03224924  6.81746557  6.94515021  6.29665833\n",
      "  6.67285984  6.45705097  6.76267595  6.2349311   6.39111426  5.60658499\n",
      "  6.73985605  6.47231885  6.39943167  6.43312047  6.71974436  6.5287852\n",
      "  6.54294823  6.51997771  6.37035881  6.1678639   6.42142931  6.58825793\n",
      "  6.40227943  6.76516053  5.68123176  6.95083058  6.13086803  5.30389066\n",
      "  6.14514843  6.3764509   6.61845679  6.52204518  6.24444589  6.09564864\n",
      "  7.01853828  6.51958196  6.33236724  7.01058756  6.38802943  6.71233066\n",
      "  6.51830878  6.95728396  6.51180573  5.62054139  6.78490782  6.28373821\n",
      "  6.40489751  6.85939186  5.70753882  6.58878925  6.61648531  6.50116665\n",
      "  6.41342639  6.5073955   6.85457103  6.3779386   6.20557442  6.91497703\n",
      "  5.85151118  6.52504535  5.90456873]\n"
     ]
    }
   ],
   "source": [
    "bg = org_data(cells, 'Eff')\n",
    "this = transpose(bg)\n",
    "print this\n",
    "\n",
    "print this[2]"
   ]
  },
  {
   "cell_type": "code",
   "execution_count": 49,
   "metadata": {
    "collapsed": false
   },
   "outputs": [],
   "source": [
    "data = transpose(array(this))"
   ]
  },
  {
   "cell_type": "code",
   "execution_count": 50,
   "metadata": {
    "collapsed": false
   },
   "outputs": [
    {
     "data": {
      "text/plain": [
       "<matplotlib.text.Text at 0x7efd66bb9bd0>"
      ]
     },
     "execution_count": 50,
     "metadata": {},
     "output_type": "execute_result"
    },
    {
     "data": {
      "image/png": "[encoded data removed]",
      "text/plain": [
       "<matplotlib.figure.Figure at 0x7efd66bd47d0>"
      ]
     },
     "metadata": {},
     "output_type": "display_data"
    }
   ],
   "source": [
    "x = data[0]\n",
    "y = data[1]\n",
    "z = data[2]\n",
    "\n",
    "xi = linspace(min(x), max(x), 100)\n",
    "yi = linspace(min(y), max(y), 100)\n",
    "\n",
    "fig = figure()\n",
    "zi = griddata(x, y, z, xi, yi)\n",
    "ax = fig.add_subplot(111)\n",
    "ax.set_aspect('equal')\n",
    "s = ax.contourf(xi, yi, zi, 10)\n",
    "ax.set_xlim([0,10])\n",
    "ax.set_ylim([0,10])\n",
    "c = colorbar(s)\n",
    "ax.set_xlabel('x (cm)')\n",
    "ax.set_ylabel('y (cm)')\n",
    "c.set_label('$\\eta$ (%)')\n",
    "ax.set_title('Efficiency Map')\n",
    "\n"
   ]
  },
  {
   "cell_type": "code",
   "execution_count": 51,
   "metadata": {
    "collapsed": false
   },
   "outputs": [
    {
     "data": {
      "text/plain": [
       "100"
      ]
     },
     "execution_count": 51,
     "metadata": {},
     "output_type": "execute_result"
    }
   ],
   "source": [
    "len(zi)"
   ]
  },
  {
   "cell_type": "code",
   "execution_count": 52,
   "metadata": {
    "collapsed": false
   },
   "outputs": [
    {
     "data": {
      "image/png": "[encoded data removed]",
      "text/plain": [
       "<matplotlib.figure.Figure at 0x7efd66d75550>"
      ]
     },
     "metadata": {},
     "output_type": "display_data"
    }
   ],
   "source": [
    "f, axes = subplots(2,2)\n",
    "\n",
    "param = ['Eff', 'voc', 'jsc', 'FF']\n",
    "flat = axes.ravel()\n",
    "\n",
    "\n",
    "for ax, p in zip(flat, param):\n",
    "    \n",
    "    ax.set_aspect('equal')\n",
    "    ax.set_xlabel('x (cm)')\n",
    "    ax.set_ylabel('y (cm)')\n",
    "    s = ax.contourf(xi, yi, zi, 10)\n",
    "    cb = colorbar(s,ax=ax)\n",
    "    cb.set_label('test')\n",
    "    \n",
    "    \n"
   ]
  },
  {
   "cell_type": "code",
   "execution_count": null,
   "metadata": {
    "collapsed": true
   },
   "outputs": [],
   "source": []
  },
  {
   "cell_type": "code",
   "execution_count": null,
   "metadata": {
    "collapsed": true
   },
   "outputs": [],
   "source": []
  }
 ],
 "metadata": {
  "kernelspec": {
   "display_name": "Python 2",
   "language": "python",
   "name": "python2"
  },
  "language_info": {
   "codemirror_mode": {
    "name": "ipython",
    "version": 2
   },
   "file_extension": ".py",
   "mimetype": "text/x-python",
   "name": "python",
   "nbconvert_exporter": "python",
   "pygments_lexer": "ipython2",
   "version": "2.7.6"
  }
 },
 "nbformat": 4,
 "nbformat_minor": 0
}
