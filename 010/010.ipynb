{
 "cells": [
  {
   "cell_type": "markdown",
   "metadata": {},
   "source": [
    "<h1>Let It Slide</h1>"
   ]
  },
  {
   "cell_type": "code",
   "execution_count": 1,
   "metadata": {
    "collapsed": false
   },
   "outputs": [
    {
     "name": "stdout",
     "output_type": "stream",
     "text": [
      "Populating the interactive namespace from numpy and matplotlib\n"
     ]
    }
   ],
   "source": [
    "%pylab inline"
   ]
  },
  {
   "cell_type": "code",
   "execution_count": 2,
   "metadata": {
    "collapsed": false
   },
   "outputs": [],
   "source": [
    "V = linspace(-1, 1, 100)"
   ]
  },
  {
   "cell_type": "code",
   "execution_count": 3,
   "metadata": {
    "collapsed": false,
    "scrolled": true
   },
   "outputs": [
    {
     "data": {
      "image/png": "[encoded data removed]",
      "text/plain": [
       "<matplotlib.figure.Figure at 0xb0c82e6c>"
      ]
     },
     "metadata": {},
     "output_type": "display_data"
    }
   ],
   "source": [
    "kB = 1.38e-23 #Boltzamnn constant\n",
    "e = 1.602e-19 #electronic charge\n",
    "\n",
    "def shockley(I0, n, T):\n",
    "    '''Shockley equation for ideal diode'''\n",
    "    units = 1e-12\n",
    "    I = I0*units*(exp((e*V)/(n*kB*T))-1)\n",
    "    return I\n",
    "\n",
    "def J(I, area=1):\n",
    "    '''Input area in cm**2\n",
    "       Output J in mA.cm**-2'''\n",
    "    J = I*1000/(area)\n",
    "    return J\n",
    "    \n",
    "\n",
    "def plotJV(I0, n, T, JL):\n",
    "    fig = figure(figsize(7,4))\n",
    "    ax = fig.add_subplot(111)\n",
    "    value = J(shockley(I0,n,T)) #get I\n",
    "    ax.plot(V, J(value)-JL, '-') #plot J-JL vs V\n",
    "    ax.set_xlabel('V (volts)')\n",
    "    ax.set_ylabel('J (mA.cm$^{-2}$)')\n",
    "    ax.set_xlim([0,1])\n",
    "    ax.set_ylim([-40, 50])\n",
    "    \n",
    "    \n",
    "from ipywidgets import *\n",
    "#create sliders\n",
    "I0_s = FloatSlider(min=1, max=1000, step=10, value=1)\n",
    "n_s = FloatSlider(min=1, max=2, step=0.1, value = 1.5)\n",
    "T_s = FloatSlider(min=20, max = 400, step = 1, value = 300)\n",
    "\n",
    "#JL is the photocurrent (approximately equiv. to JSC)\n",
    "JL_s = FloatSlider(min=0, max=30, step=1, value=0)\n",
    "\n",
    "#bind sliders to plot\n",
    "interactive(plotJV, I0=I0_s, n=n_s, T=T_s, JL=JL_s)\n"
   ]
  }
 ],
 "metadata": {
  "kernelspec": {
   "display_name": "Python 2",
   "language": "python",
   "name": "python2"
  },
  "language_info": {
   "codemirror_mode": {
    "name": "ipython",
    "version": 2
   },
   "file_extension": ".py",
   "mimetype": "text/x-python",
   "name": "python",
   "nbconvert_exporter": "python",
   "pygments_lexer": "ipython2",
   "version": "2.7.6"
  }
 },
 "nbformat": 4,
 "nbformat_minor": 0
}
