{
 "cells": [
  {
   "cell_type": "markdown",
   "metadata": {},
   "source": [
    "<h1>Xtralien Invasion</h1>"
   ]
  },
  {
   "cell_type": "code",
   "execution_count": 17,
   "metadata": {
    "collapsed": false,
    "scrolled": true
   },
   "outputs": [
    {
     "name": "stdout",
     "output_type": "stream",
     "text": [
      "Populating the interactive namespace from numpy and matplotlib\n"
     ]
    }
   ],
   "source": [
    "%pylab inline\n",
    "import sys"
   ]
  },
  {
   "cell_type": "markdown",
   "metadata": {},
   "source": [
    "<h3>Objective 2:</h3>\n",
    "Write a connect script that makes a serial connection to the Xtralien"
   ]
  },
  {
   "cell_type": "code",
   "execution_count": 18,
   "metadata": {
    "collapsed": false
   },
   "outputs": [],
   "source": [
    "import serial #You need this!\n",
    "\n",
    "#I'm using Ubuntu so to find out which port I need to connect to I keep\n",
    "#an eye on my /dev directory when plugging in\n",
    "#On this occasion I need ttyACM7 but this changes on disconnect/reconnect or rest\n",
    "\n",
    "s = serial.Serial('/dev/ttyACM7')"
   ]
  },
  {
   "cell_type": "code",
   "execution_count": 19,
   "metadata": {
    "collapsed": false
   },
   "outputs": [
    {
     "data": {
      "text/plain": [
       "10"
      ]
     },
     "execution_count": 19,
     "metadata": {},
     "output_type": "execute_result"
    }
   ],
   "source": [
    "#Try out the Xtralien test command\n",
    "\n",
    "s.write(b\"cloi hello\")"
   ]
  },
  {
   "cell_type": "code",
   "execution_count": 20,
   "metadata": {
    "collapsed": false
   },
   "outputs": [
    {
     "data": {
      "text/plain": [
       "'Hello World\\n'"
      ]
     },
     "execution_count": 20,
     "metadata": {},
     "output_type": "execute_result"
    }
   ],
   "source": [
    "#To read what the Xtralien sends back just use readline()\n",
    "s.readline()"
   ]
  },
  {
   "cell_type": "code",
   "execution_count": 21,
   "metadata": {
    "collapsed": true
   },
   "outputs": [],
   "source": [
    "#If it throws back 'Hello World' then you're connected!"
   ]
  },
  {
   "cell_type": "code",
   "execution_count": 22,
   "metadata": {
    "collapsed": false
   },
   "outputs": [],
   "source": [
    "s.close()"
   ]
  },
  {
   "cell_type": "code",
   "execution_count": 23,
   "metadata": {
    "collapsed": false
   },
   "outputs": [],
   "source": [
    "#I want to write a function that will make a connection even if I don't know what my port id is\n",
    "\n",
    "def connect(path='/dev/ttyACM'): #default path is for linux\n",
    "    for i in range(0, 10):\n",
    "        \n",
    "        try:\n",
    "            s = serial.Serial('{0}{1}'.format(path,i))\n",
    "            print('Connected')\n",
    "            return s\n",
    "        \n",
    "        except:\n",
    "            continue\n",
    "        \n",
    "    print('No Device Found')\n",
    "    \n",
    "    "
   ]
  },
  {
   "cell_type": "code",
   "execution_count": 24,
   "metadata": {
    "collapsed": true
   },
   "outputs": [],
   "source": [
    "#How about a platform independant connection method?\n",
    "\n",
    "def connect_any():\n",
    "    p = sys.platform\n",
    "    if \"lin\" in p:\n",
    "        s = connect()\n",
    "        print('Well done for usuing Linux.')\n",
    "    elif \"win\" in p:\n",
    "        s = connect('COM')\n",
    "        print('Boooo! Windows.')\n",
    "    #elif \"dar\" in p:\n",
    "        #print('mac')\n",
    "    \n",
    "    return s\n",
    "    \n",
    "    "
   ]
  },
  {
   "cell_type": "code",
   "execution_count": 25,
   "metadata": {
    "collapsed": false
   },
   "outputs": [
    {
     "name": "stdout",
     "output_type": "stream",
     "text": [
      "Connected\n",
      "Well done for usuing Linux.\n"
     ]
    }
   ],
   "source": [
    "connection = connect_any()"
   ]
  },
  {
   "cell_type": "code",
   "execution_count": 26,
   "metadata": {
    "collapsed": false
   },
   "outputs": [
    {
     "data": {
      "text/plain": [
       "Serial<id=0xb0c4a7ec, open=False>(port='/dev/ttyACM7', baudrate=9600, bytesize=8, parity='N', stopbits=1, timeout=None, xonxoff=False, rtscts=False, dsrdtr=False)"
      ]
     },
     "execution_count": 26,
     "metadata": {},
     "output_type": "execute_result"
    }
   ],
   "source": [
    "s"
   ]
  },
  {
   "cell_type": "code",
   "execution_count": null,
   "metadata": {
    "collapsed": true
   },
   "outputs": [],
   "source": []
  }
 ],
 "metadata": {
  "kernelspec": {
   "display_name": "Python 2",
   "language": "python",
   "name": "python2"
  },
  "language_info": {
   "codemirror_mode": {
    "name": "ipython",
    "version": 2
   },
   "file_extension": ".py",
   "mimetype": "text/x-python",
   "name": "python",
   "nbconvert_exporter": "python",
   "pygments_lexer": "ipython2",
   "version": "2.7.6"
  }
 },
 "nbformat": 4,
 "nbformat_minor": 0
}
