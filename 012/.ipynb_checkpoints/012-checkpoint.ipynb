{
 "cells": [
  {
   "cell_type": "markdown",
   "metadata": {},
   "source": [
    "<h1>Lighten Up!</h1>"
   ]
  },
  {
   "cell_type": "code",
   "execution_count": 145,
   "metadata": {
    "collapsed": false,
    "scrolled": true
   },
   "outputs": [
    {
     "name": "stdout",
     "output_type": "stream",
     "text": [
      "Populating the interactive namespace from numpy and matplotlib\n"
     ]
    },
    {
     "name": "stderr",
     "output_type": "stream",
     "text": [
      "WARNING: pylab import has clobbered these variables: ['Text', 'Widget', 'connect', 'interactive', 'Button']\n",
      "`%matplotlib` prevents importing * from pylab and numpy\n"
     ]
    }
   ],
   "source": [
    "%pylab inline\n"
   ]
  },
  {
   "cell_type": "markdown",
   "metadata": {},
   "source": [
    "<h3>Objective 1:</h3>\n",
    "Connect to the Xtralien"
   ]
  },
  {
   "cell_type": "code",
   "execution_count": 146,
   "metadata": {
    "collapsed": false
   },
   "outputs": [
    {
     "name": "stdout",
     "output_type": "stream",
     "text": [
      "Connected\n",
      "Well done for usuing Linux.\n"
     ]
    }
   ],
   "source": [
    "#Use your connect script from 011\n",
    "from connect import *\n",
    "s = connect_any()"
   ]
  },
  {
   "cell_type": "markdown",
   "metadata": {},
   "source": [
    "<h3>Objective 2:</h3>\n",
    "Measure a voltage-current sweep of and LED\n"
   ]
  },
  {
   "cell_type": "code",
   "execution_count": 147,
   "metadata": {
    "collapsed": false
   },
   "outputs": [
    {
     "data": {
      "text/plain": [
       "21"
      ]
     },
     "execution_count": 147,
     "metadata": {},
     "output_type": "execute_result"
    }
   ],
   "source": [
    "#Use the Xtralien sweep command\n",
    "s.write(b\"smu1 sweep 1 0.01 2.2\")"
   ]
  },
  {
   "cell_type": "code",
   "execution_count": 148,
   "metadata": {
    "collapsed": true
   },
   "outputs": [],
   "source": [
    "#read the response\n",
    "datastr = s.readline()"
   ]
  },
  {
   "cell_type": "code",
   "execution_count": 149,
   "metadata": {
    "collapsed": false
   },
   "outputs": [
    {
     "data": {
      "text/plain": [
       "'[1.0022,-4.784e-06;1.0122,-4.7866e-06;1.0222,-4.6714e-06;1.0321,-4.7132e-06;1.0423,-4.6314e-06;1.0523,-4.8241e-06;1.0623,-4.5941e-06;1.072,-4.8306e-06;1.0819,-4.7897e-06;1.092,-4.7426e-06;1.1021,-4.6999e-06;1.1121,-4.7888e-06;1.1221,-4.6407e-06;1.1322,-4.8313e-06;1.1422,-4.6363e-06;1.1521,-4.7468e-06;1.1621,-4.5334e-06;1.1722,-4.6768e-06;1.1822,-4.7849e-06;1.1923,-4.7945e-06;1.2023,-4.7049e-06;1.2123,-4.7921e-06;1.2219,-4.7966e-06;1.232,-4.8476e-06;1.2419,-4.8032e-06;1.2519,-4.8643e-06;1.2621,-4.7823e-06;1.2721,-4.7988e-06;1.2822,-4.7385e-06;1.2921,-4.7707e-06;1.3021,-4.7102e-06;1.3122,-4.7013e-06;1.3222,-4.6681e-06;1.3322,-4.681e-06;1.3421,-4.7969e-06;1.3522,-4.6564e-06;1.3622,-4.7527e-06;1.3723,-4.8136e-06;1.3819,-4.7233e-06;1.3919,-4.7128e-06;1.4022,-4.6431e-06;1.412,-4.7319e-06;1.4221,-4.6015e-06;1.4321,-4.6501e-06;1.4422,-4.5765e-06;1.4522,-4.5612e-06;1.4621,-4.6115e-06;1.4722,-4.5643e-06;1.4822,-4.4264e-06;1.4923,-4.475e-06;1.5023,-4.5196e-06;1.5123,-4.4523e-06;1.5223,-4.242e-06;1.532,-4.2032e-06;1.5421,-4.0545e-06;1.552,-4.0068e-06;1.5621,-3.8337e-06;1.5722,-3.615e-06;1.5821,-3.1405e-06;1.5921,-2.8424e-06;1.6021,-2.2602e-06;1.6122,-1.542e-06;1.6222,-8.0732e-07;1.6321,4.8508e-07;1.6422,1.9226e-06;1.6522,4.3377e-06;1.6623,7.3247e-06;1.6723,1.1166e-05;1.6819,1.6188e-05;1.6919,2.3359e-05;1.702,3.2872e-05;1.7119,4.5599e-05;1.7219,6.2891e-05;1.732,8.5901e-05;1.7419,0.00011677;1.7519,0.00015709;1.7617,0.00020978;1.7718,0.00027881;1.7818,0.00036776;1.7916,0.00048092;1.8014,0.00062171;1.8112,0.00079725;1.8211,0.0010125;1.831,0.0012741;1.8403,0.0015712;1.8499,0.0019335;1.8594,0.0023592;1.869,0.0028507;1.8784,0.0034071;1.8877,0.0040365;1.8971,0.0047454;1.9063,0.0055365;1.9154,0.0064043;1.9244,0.0073554;1.9333,0.0083955;1.9421,0.0095301;1.951,0.010752;1.9596,0.012057;1.9681,0.01346;1.9764,0.014913;1.9848,0.016515;1.993,0.018193;2.0012,0.019973;2.0093,0.021857;2.0173,0.023848;2.0252,0.024603;2.0329,0.024603;2.0403,0.024602;2.0476,0.024602;2.0548,0.024602;2.0619,0.024601;2.069,0.024601;2.076,0.024599;2.0829,0.024596;2.0896,0.024593;2.0962,0.024588;2.1029,0.024582;2.1094,0.024576;2.1158,0.02457;2.1221,0.024564;2.1282,0.024559]\\n'"
      ]
     },
     "execution_count": 149,
     "metadata": {},
     "output_type": "execute_result"
    }
   ],
   "source": [
    "datastr"
   ]
  },
  {
   "cell_type": "markdown",
   "metadata": {},
   "source": [
    "<h3>Objective 3:</h3>\n",
    "Plot the data. "
   ]
  },
  {
   "cell_type": "code",
   "execution_count": 150,
   "metadata": {
    "collapsed": false
   },
   "outputs": [],
   "source": [
    "#need to convert raw string data into something useful!\n",
    "import re #will need this\n",
    "\n",
    "def raw_convert(string):\n",
    "    #first remove all characters that are not ,;- or int\n",
    "    string = re.sub('[\\[\\]\\n]', '', string)\n",
    "    \n",
    "    #next split string at to create a list;\n",
    "    data = string.split(';')\n",
    "    \n",
    "    #now split again at ,\n",
    "    data = [x.split(',') for x in data]\n",
    "    \n",
    "    #finally need to convert each string in list to float\n",
    "    data = [[float(y) for y in x] for x in data]\n",
    "\n",
    "    return data"
   ]
  },
  {
   "cell_type": "code",
   "execution_count": 151,
   "metadata": {
    "collapsed": true
   },
   "outputs": [],
   "source": [
    "data = raw_convert(datastr)"
   ]
  },
  {
   "cell_type": "code",
   "execution_count": 152,
   "metadata": {
    "collapsed": false
   },
   "outputs": [],
   "source": [
    "#data"
   ]
  },
  {
   "cell_type": "code",
   "execution_count": 153,
   "metadata": {
    "collapsed": false
   },
   "outputs": [
    {
     "data": {
      "text/plain": [
       "<matplotlib.text.Text at 0xaff5998c>"
      ]
     },
     "execution_count": 153,
     "metadata": {},
     "output_type": "execute_result"
    },
    {
     "data": {
      "image/png": "[encoded data removed]",
      "text/plain": [
       "<matplotlib.figure.Figure at 0xb0137b4c>"
      ]
     },
     "metadata": {},
     "output_type": "display_data"
    }
   ],
   "source": [
    "#from here you can either write the data to file or plot it\n",
    "#remember to transpose before plotting\n",
    "data_trans = transpose(data)\n",
    "x = data_trans[0]\n",
    "y = data_trans[1]*1000 #convert to mA\n",
    "plot(x, y)\n",
    "xlabel('Current, $I$ (mA)')\n",
    "ylabel('Voltage, $V$ (Volts)')"
   ]
  },
  {
   "cell_type": "code",
   "execution_count": 154,
   "metadata": {
    "collapsed": true
   },
   "outputs": [],
   "source": [
    "#If your plot doesn't look like that abve then you've probably got your LED connectede the wrong way around.\n"
   ]
  },
  {
   "cell_type": "markdown",
   "metadata": {},
   "source": [
    "<h3>Objective 4</h3>\n",
    "Estimate $V_d$"
   ]
  },
  {
   "cell_type": "code",
   "execution_count": 156,
   "metadata": {
    "collapsed": false
   },
   "outputs": [
    {
     "data": {
      "image/png": "[encoded data removed]",
      "text/plain": [
       "<matplotlib.figure.Figure at 0xafe1e72c>"
      ]
     },
     "metadata": {},
     "output_type": "display_data"
    }
   ],
   "source": [
    "from ipywidgets import *\n",
    "\n",
    "def regression(mini, maxi):\n",
    "    m, c =polyfit(x[mini:maxi], y[mini:maxi], 1)\n",
    "    return m, c\n",
    "\n",
    "def plot_iv(mini, maxi):\n",
    "    fig = figure()\n",
    "    ax = fig.add_subplot(111)\n",
    "    ax.plot(x, y)\n",
    "    ax.set_xlabel('Current, $I$ (mA)')\n",
    "    ax.set_ylabel('Voltage, $V$ (Volts)')\n",
    "    ax.plot(x[mini:maxi], y[mini:maxi], 'o')\n",
    "    m, c = regression(mini, maxi)\n",
    "    xi = linspace(min(x), max(x), 1000)\n",
    "    yi = m*xi+c\n",
    "    ax.plot(xi, yi, '-', color='red')\n",
    "    #print('$V_d$ = {0} V'.format('test'))\n",
    "    ax.set_ylim([-5, max(y)])\n",
    "    idx = abs(yi-0).argmin()\n",
    "    ax.text(min(x)*1.1, 15, '$V_d$ = {0:.2f} V'.format(xi[idx]))\n",
    "    \n",
    "    \n",
    "    \n",
    "\n",
    "\n",
    "mini_s = IntSlider(min=0, max=len(x)-1, step=1, value=0)\n",
    "maxi_s = IntSlider(min=0, max=len(x)-1, step = 1,value=len(x)-1)\n",
    "\n",
    "interactive(plot_iv, mini=mini_s, maxi=maxi_s)\n",
    "    "
   ]
  },
  {
   "cell_type": "code",
   "execution_count": 157,
   "metadata": {
    "collapsed": false
   },
   "outputs": [
    {
     "data": {
      "text/plain": [
       "[[1.0022, -4.784e-06],\n",
       " [1.0122, -4.7866e-06],\n",
       " [1.0222, -4.6714e-06],\n",
       " [1.0321, -4.7132e-06],\n",
       " [1.0423, -4.6314e-06],\n",
       " [1.0523, -4.8241e-06],\n",
       " [1.0623, -4.5941e-06],\n",
       " [1.072, -4.8306e-06],\n",
       " [1.0819, -4.7897e-06],\n",
       " [1.092, -4.7426e-06],\n",
       " [1.1021, -4.6999e-06],\n",
       " [1.1121, -4.7888e-06],\n",
       " [1.1221, -4.6407e-06],\n",
       " [1.1322, -4.8313e-06],\n",
       " [1.1422, -4.6363e-06],\n",
       " [1.1521, -4.7468e-06],\n",
       " [1.1621, -4.5334e-06],\n",
       " [1.1722, -4.6768e-06],\n",
       " [1.1822, -4.7849e-06],\n",
       " [1.1923, -4.7945e-06],\n",
       " [1.2023, -4.7049e-06],\n",
       " [1.2123, -4.7921e-06],\n",
       " [1.2219, -4.7966e-06],\n",
       " [1.232, -4.8476e-06],\n",
       " [1.2419, -4.8032e-06],\n",
       " [1.2519, -4.8643e-06],\n",
       " [1.2621, -4.7823e-06],\n",
       " [1.2721, -4.7988e-06],\n",
       " [1.2822, -4.7385e-06],\n",
       " [1.2921, -4.7707e-06],\n",
       " [1.3021, -4.7102e-06],\n",
       " [1.3122, -4.7013e-06],\n",
       " [1.3222, -4.6681e-06],\n",
       " [1.3322, -4.681e-06],\n",
       " [1.3421, -4.7969e-06],\n",
       " [1.3522, -4.6564e-06],\n",
       " [1.3622, -4.7527e-06],\n",
       " [1.3723, -4.8136e-06],\n",
       " [1.3819, -4.7233e-06],\n",
       " [1.3919, -4.7128e-06],\n",
       " [1.4022, -4.6431e-06],\n",
       " [1.412, -4.7319e-06],\n",
       " [1.4221, -4.6015e-06],\n",
       " [1.4321, -4.6501e-06],\n",
       " [1.4422, -4.5765e-06],\n",
       " [1.4522, -4.5612e-06],\n",
       " [1.4621, -4.6115e-06],\n",
       " [1.4722, -4.5643e-06],\n",
       " [1.4822, -4.4264e-06],\n",
       " [1.4923, -4.475e-06],\n",
       " [1.5023, -4.5196e-06],\n",
       " [1.5123, -4.4523e-06],\n",
       " [1.5223, -4.242e-06],\n",
       " [1.532, -4.2032e-06],\n",
       " [1.5421, -4.0545e-06],\n",
       " [1.552, -4.0068e-06],\n",
       " [1.5621, -3.8337e-06],\n",
       " [1.5722, -3.615e-06],\n",
       " [1.5821, -3.1405e-06],\n",
       " [1.5921, -2.8424e-06],\n",
       " [1.6021, -2.2602e-06],\n",
       " [1.6122, -1.542e-06],\n",
       " [1.6222, -8.0732e-07],\n",
       " [1.6321, 4.8508e-07],\n",
       " [1.6422, 1.9226e-06],\n",
       " [1.6522, 4.3377e-06],\n",
       " [1.6623, 7.3247e-06],\n",
       " [1.6723, 1.1166e-05],\n",
       " [1.6819, 1.6188e-05],\n",
       " [1.6919, 2.3359e-05],\n",
       " [1.702, 3.2872e-05],\n",
       " [1.7119, 4.5599e-05],\n",
       " [1.7219, 6.2891e-05],\n",
       " [1.732, 8.5901e-05],\n",
       " [1.7419, 0.00011677],\n",
       " [1.7519, 0.00015709],\n",
       " [1.7617, 0.00020978],\n",
       " [1.7718, 0.00027881],\n",
       " [1.7818, 0.00036776],\n",
       " [1.7916, 0.00048092],\n",
       " [1.8014, 0.00062171],\n",
       " [1.8112, 0.00079725],\n",
       " [1.8211, 0.0010125],\n",
       " [1.831, 0.0012741],\n",
       " [1.8403, 0.0015712],\n",
       " [1.8499, 0.0019335],\n",
       " [1.8594, 0.0023592],\n",
       " [1.869, 0.0028507],\n",
       " [1.8784, 0.0034071],\n",
       " [1.8877, 0.0040365],\n",
       " [1.8971, 0.0047454],\n",
       " [1.9063, 0.0055365],\n",
       " [1.9154, 0.0064043],\n",
       " [1.9244, 0.0073554],\n",
       " [1.9333, 0.0083955],\n",
       " [1.9421, 0.0095301],\n",
       " [1.951, 0.010752],\n",
       " [1.9596, 0.012057],\n",
       " [1.9681, 0.01346],\n",
       " [1.9764, 0.014913],\n",
       " [1.9848, 0.016515],\n",
       " [1.993, 0.018193],\n",
       " [2.0012, 0.019973],\n",
       " [2.0093, 0.021857],\n",
       " [2.0173, 0.023848],\n",
       " [2.0252, 0.024603],\n",
       " [2.0329, 0.024603],\n",
       " [2.0403, 0.024602],\n",
       " [2.0476, 0.024602],\n",
       " [2.0548, 0.024602],\n",
       " [2.0619, 0.024601],\n",
       " [2.069, 0.024601],\n",
       " [2.076, 0.024599],\n",
       " [2.0829, 0.024596],\n",
       " [2.0896, 0.024593],\n",
       " [2.0962, 0.024588],\n",
       " [2.1029, 0.024582],\n",
       " [2.1094, 0.024576],\n",
       " [2.1158, 0.02457],\n",
       " [2.1221, 0.024564],\n",
       " [2.1282, 0.024559]]"
      ]
     },
     "execution_count": 157,
     "metadata": {},
     "output_type": "execute_result"
    }
   ],
   "source": [
    "data"
   ]
  },
  {
   "cell_type": "code",
   "execution_count": null,
   "metadata": {
    "collapsed": true
   },
   "outputs": [],
   "source": []
  }
 ],
 "metadata": {
  "kernelspec": {
   "display_name": "Python 2",
   "language": "python",
   "name": "python2"
  },
  "language_info": {
   "codemirror_mode": {
    "name": "ipython",
    "version": 2
   },
   "file_extension": ".py",
   "mimetype": "text/x-python",
   "name": "python",
   "nbconvert_exporter": "python",
   "pygments_lexer": "ipython2",
   "version": "2.7.6"
  }
 },
 "nbformat": 4,
 "nbformat_minor": 0
}
