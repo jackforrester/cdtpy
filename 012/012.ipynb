{
 "cells": [
  {
   "cell_type": "markdown",
   "metadata": {},
   "source": [
    "<h1>Lighten Up!</h1>"
   ]
  },
  {
   "cell_type": "code",
   "execution_count": 1,
   "metadata": {
    "collapsed": false,
    "scrolled": true
   },
   "outputs": [
    {
     "name": "stdout",
     "output_type": "stream",
     "text": [
      "Populating the interactive namespace from numpy and matplotlib\n"
     ]
    }
   ],
   "source": [
    "%pylab inline\n"
   ]
  },
  {
   "cell_type": "markdown",
   "metadata": {},
   "source": [
    "<h3>Objective 1:</h3>\n",
    "Connect to the Xtralien"
   ]
  },
  {
   "cell_type": "code",
   "execution_count": 2,
   "metadata": {
    "collapsed": false
   },
   "outputs": [
    {
     "name": "stdout",
     "output_type": "stream",
     "text": [
      "Connected\n",
      "Well done for usuing Linux.\n"
     ]
    }
   ],
   "source": [
    "#Use your connect script from 011\n",
    "from connect import *\n",
    "s = connect_any()"
   ]
  },
  {
   "cell_type": "markdown",
   "metadata": {},
   "source": [
    "<h3>Objective 2:</h3>\n",
    "Measure a voltage-current sweep of and LED\n"
   ]
  },
  {
   "cell_type": "code",
   "execution_count": 3,
   "metadata": {
    "collapsed": false
   },
   "outputs": [
    {
     "data": {
      "text/plain": [
       "23"
      ]
     },
     "execution_count": 3,
     "metadata": {},
     "output_type": "execute_result"
    }
   ],
   "source": [
    "#Use the Xtralien sweep command\n",
    "s.write(b\"smu1 sweep 1.5 0.01 2.3\")"
   ]
  },
  {
   "cell_type": "code",
   "execution_count": 4,
   "metadata": {
    "collapsed": false
   },
   "outputs": [],
   "source": [
    "#read the response\n",
    "datastr = s.readline()"
   ]
  },
  {
   "cell_type": "code",
   "execution_count": 5,
   "metadata": {
    "collapsed": false
   },
   "outputs": [
    {
     "data": {
      "text/plain": [
       "'[1.5023,-4.3191e-06;1.5123,-4.1976e-06;1.5224,-4.169e-06;1.5321,-3.8687e-06;1.5421,-3.7557e-06;1.5521,-3.5155e-06;1.5621,-3.0564e-06;1.5721,-2.8996e-06;1.5822,-2.6908e-06;1.5922,-2.0255e-06;1.6022,-1.6381e-06;1.6122,-7.5795e-07;1.6223,1.1646e-07;1.6322,1.0378e-06;1.6422,2.3358e-06;1.6523,3.9164e-06;1.6623,5.7349e-06;1.6724,8.3555e-06;1.6819,1.1353e-05;1.692,1.4913e-05;1.702,1.9403e-05;1.712,2.4953e-05;1.722,3.1988e-05;1.732,4.0741e-05;1.742,5.1819e-05;1.752,6.51e-05;1.762,8.1969e-05;1.7719,0.00010324;1.782,0.00012958;1.792,0.00016301;1.802,0.00020468;1.8119,0.00025718;1.8218,0.00032365;1.8319,0.00040719;1.8414,0.00050643;1.8512,0.00063331;1.8611,0.00078993;1.871,0.00098258;1.8807,0.0012124;1.8904,0.0014867;1.9002,0.0018141;1.9098,0.0021952;1.9194,0.0026324;1.9289,0.0031317;1.9383,0.003697;1.9477,0.0043317;1.9569,0.005035;1.9661,0.0058038;1.9753,0.0066477;1.984,0.0075304;1.9931,0.0085262;2.002,0.0095753;2.0108,0.010703;2.0195,0.011908;2.0283,0.01319;2.037,0.014537;2.0454,0.015955;2.054,0.017454;2.0623,0.01903;2.0707,0.020674;2.0788,0.022385;2.087,0.024177;2.0952,0.024603;2.1031,0.024603;2.1107,0.024602;2.1182,0.024602;2.1257,0.024602;2.1332,0.024602;2.1406,0.024601;2.1479,0.0246;2.1553,0.024599;2.1625,0.024596;2.1695,0.024592;2.1764,0.024588;2.1834,0.024582;2.1901,0.024577;2.1965,0.024571;2.2027,0.024565;2.2088,0.02456;2.2143,0.024553]\\n'"
      ]
     },
     "execution_count": 5,
     "metadata": {},
     "output_type": "execute_result"
    }
   ],
   "source": [
    "datastr"
   ]
  },
  {
   "cell_type": "markdown",
   "metadata": {},
   "source": [
    "<h3>Objective 3:</h3>\n",
    "Plot the data. "
   ]
  },
  {
   "cell_type": "code",
   "execution_count": 6,
   "metadata": {
    "collapsed": false
   },
   "outputs": [],
   "source": [
    "#need to convert raw string data into something useful!\n",
    "import re #will need this\n",
    "\n",
    "def raw_convert(string):\n",
    "    #first remove all characters that are not ,;- or int\n",
    "    string = re.sub('[\\[\\]\\n]', '', string)\n",
    "    \n",
    "    #next split string at to create a list;\n",
    "    data = string.split(';')\n",
    "    \n",
    "    #now split again at ,\n",
    "    data = [x.split(',') for x in data]\n",
    "    \n",
    "    #finally need to convert each string in list to float\n",
    "    data = [[float(y) for y in x] for x in data]\n",
    "\n",
    "    return data"
   ]
  },
  {
   "cell_type": "code",
   "execution_count": 7,
   "metadata": {
    "collapsed": false
   },
   "outputs": [],
   "source": [
    "data = raw_convert(datastr)"
   ]
  },
  {
   "cell_type": "code",
   "execution_count": 8,
   "metadata": {
    "collapsed": false
   },
   "outputs": [],
   "source": [
    "#data"
   ]
  },
  {
   "cell_type": "code",
   "execution_count": 9,
   "metadata": {
    "collapsed": false
   },
   "outputs": [
    {
     "data": {
      "text/plain": [
       "<matplotlib.text.Text at 0xb0bed60c>"
      ]
     },
     "execution_count": 9,
     "metadata": {},
     "output_type": "execute_result"
    },
    {
     "data": {
      "image/png": "[encoded data removed]",
      "text/plain": [
       "<matplotlib.figure.Figure at 0xb0c4e48c>"
      ]
     },
     "metadata": {},
     "output_type": "display_data"
    }
   ],
   "source": [
    "#from here you can either write the data to file or plot it\n",
    "#remember to transpose before plotting\n",
    "data_trans = transpose(data)\n",
    "x = data_trans[0]\n",
    "y = data_trans[1]*1000 #convert to mA\n",
    "plot(x, y)\n",
    "xlabel('Current, $I$ (mA)')\n",
    "ylabel('Voltage, $V$ (Volts)')"
   ]
  },
  {
   "cell_type": "code",
   "execution_count": 10,
   "metadata": {
    "collapsed": true
   },
   "outputs": [],
   "source": [
    "#If your plot doesn't look like that abve then you've probably got your LED connectede the wrong way around.\n"
   ]
  },
  {
   "cell_type": "markdown",
   "metadata": {},
   "source": [
    "<h3>Objective 4</h3>\n",
    "Estimate $V_d$"
   ]
  },
  {
   "cell_type": "code",
   "execution_count": 11,
   "metadata": {
    "collapsed": false
   },
   "outputs": [
    {
     "data": {
      "image/png": "[encoded data removed]",
      "text/plain": [
       "<matplotlib.figure.Figure at 0xb085984c>"
      ]
     },
     "metadata": {},
     "output_type": "display_data"
    }
   ],
   "source": [
    "from ipywidgets import *\n",
    "\n",
    "def regression(mini, maxi):\n",
    "    m, c =polyfit(x[mini:maxi], y[mini:maxi], 1)\n",
    "    return m, c\n",
    "\n",
    "def plot_iv(mini, maxi):\n",
    "    fig = figure()\n",
    "    ax = fig.add_subplot(111)\n",
    "    ax.plot(x, y)\n",
    "    ax.set_xlabel('Current, $I$ (mA)')\n",
    "    ax.set_ylabel('Voltage, $V$ (Volts)')\n",
    "    ax.plot(x[mini:maxi], y[mini:maxi], 'o')\n",
    "    m, c = regression(mini, maxi)\n",
    "    xi = linspace(min(x), max(x), 1000)\n",
    "    yi = m*xi+c\n",
    "    ax.plot(xi, yi, '-', color='red')\n",
    "    #print('$V_d$ = {0} V'.format('test'))\n",
    "    ax.set_ylim([-5, max(y)])\n",
    "    idx = abs(yi-0).argmin()\n",
    "    ax.text(min(x)*1.1, 15, '$V_d$ = {0:.2f} V'.format(xi[idx]))\n",
    "    \n",
    "mini_s = IntSlider(min=0, max=len(x)-1, step=1, value=0)\n",
    "maxi_s = IntSlider(min=0, max=len(x)-1, step = 1,value=len(x)-1)\n",
    "\n",
    "interactive(plot_iv, mini=mini_s, maxi=maxi_s)\n",
    "\n",
    "#This sort of thing is really useful for (alpha.hv)**2 plots and extracting band gaps from transmission data\n",
    "    "
   ]
  },
  {
   "cell_type": "code",
   "execution_count": 12,
   "metadata": {
    "collapsed": false
   },
   "outputs": [
    {
     "data": {
      "text/plain": [
       "[[1.5023, -4.3191e-06],\n",
       " [1.5123, -4.1976e-06],\n",
       " [1.5224, -4.169e-06],\n",
       " [1.5321, -3.8687e-06],\n",
       " [1.5421, -3.7557e-06],\n",
       " [1.5521, -3.5155e-06],\n",
       " [1.5621, -3.0564e-06],\n",
       " [1.5721, -2.8996e-06],\n",
       " [1.5822, -2.6908e-06],\n",
       " [1.5922, -2.0255e-06],\n",
       " [1.6022, -1.6381e-06],\n",
       " [1.6122, -7.5795e-07],\n",
       " [1.6223, 1.1646e-07],\n",
       " [1.6322, 1.0378e-06],\n",
       " [1.6422, 2.3358e-06],\n",
       " [1.6523, 3.9164e-06],\n",
       " [1.6623, 5.7349e-06],\n",
       " [1.6724, 8.3555e-06],\n",
       " [1.6819, 1.1353e-05],\n",
       " [1.692, 1.4913e-05],\n",
       " [1.702, 1.9403e-05],\n",
       " [1.712, 2.4953e-05],\n",
       " [1.722, 3.1988e-05],\n",
       " [1.732, 4.0741e-05],\n",
       " [1.742, 5.1819e-05],\n",
       " [1.752, 6.51e-05],\n",
       " [1.762, 8.1969e-05],\n",
       " [1.7719, 0.00010324],\n",
       " [1.782, 0.00012958],\n",
       " [1.792, 0.00016301],\n",
       " [1.802, 0.00020468],\n",
       " [1.8119, 0.00025718],\n",
       " [1.8218, 0.00032365],\n",
       " [1.8319, 0.00040719],\n",
       " [1.8414, 0.00050643],\n",
       " [1.8512, 0.00063331],\n",
       " [1.8611, 0.00078993],\n",
       " [1.871, 0.00098258],\n",
       " [1.8807, 0.0012124],\n",
       " [1.8904, 0.0014867],\n",
       " [1.9002, 0.0018141],\n",
       " [1.9098, 0.0021952],\n",
       " [1.9194, 0.0026324],\n",
       " [1.9289, 0.0031317],\n",
       " [1.9383, 0.003697],\n",
       " [1.9477, 0.0043317],\n",
       " [1.9569, 0.005035],\n",
       " [1.9661, 0.0058038],\n",
       " [1.9753, 0.0066477],\n",
       " [1.984, 0.0075304],\n",
       " [1.9931, 0.0085262],\n",
       " [2.002, 0.0095753],\n",
       " [2.0108, 0.010703],\n",
       " [2.0195, 0.011908],\n",
       " [2.0283, 0.01319],\n",
       " [2.037, 0.014537],\n",
       " [2.0454, 0.015955],\n",
       " [2.054, 0.017454],\n",
       " [2.0623, 0.01903],\n",
       " [2.0707, 0.020674],\n",
       " [2.0788, 0.022385],\n",
       " [2.087, 0.024177],\n",
       " [2.0952, 0.024603],\n",
       " [2.1031, 0.024603],\n",
       " [2.1107, 0.024602],\n",
       " [2.1182, 0.024602],\n",
       " [2.1257, 0.024602],\n",
       " [2.1332, 0.024602],\n",
       " [2.1406, 0.024601],\n",
       " [2.1479, 0.0246],\n",
       " [2.1553, 0.024599],\n",
       " [2.1625, 0.024596],\n",
       " [2.1695, 0.024592],\n",
       " [2.1764, 0.024588],\n",
       " [2.1834, 0.024582],\n",
       " [2.1901, 0.024577],\n",
       " [2.1965, 0.024571],\n",
       " [2.2027, 0.024565],\n",
       " [2.2088, 0.02456],\n",
       " [2.2143, 0.024553]]"
      ]
     },
     "execution_count": 12,
     "metadata": {},
     "output_type": "execute_result"
    }
   ],
   "source": [
    "data"
   ]
  },
  {
   "cell_type": "code",
   "execution_count": null,
   "metadata": {
    "collapsed": true
   },
   "outputs": [],
   "source": []
  }
 ],
 "metadata": {
  "kernelspec": {
   "display_name": "Python 2",
   "language": "python",
   "name": "python2"
  },
  "language_info": {
   "codemirror_mode": {
    "name": "ipython",
    "version": 2
   },
   "file_extension": ".py",
   "mimetype": "text/x-python",
   "name": "python",
   "nbconvert_exporter": "python",
   "pygments_lexer": "ipython2",
   "version": "2.7.6"
  }
 },
 "nbformat": 4,
 "nbformat_minor": 0
}
