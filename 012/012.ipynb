{
 "cells": [
  {
   "cell_type": "markdown",
   "metadata": {},
   "source": [
    "<h1>Lighten Up!</h1>"
   ]
  },
  {
   "cell_type": "code",
   "execution_count": 25,
   "metadata": {
    "collapsed": false,
    "scrolled": true
   },
   "outputs": [
    {
     "name": "stdout",
     "output_type": "stream",
     "text": [
      "Populating the interactive namespace from numpy and matplotlib\n"
     ]
    },
    {
     "name": "stderr",
     "output_type": "stream",
     "text": [
      "WARNING: pylab import has clobbered these variables: ['Text', 'Widget', 'connect', 'interactive', 'Button']\n",
      "`%matplotlib` prevents importing * from pylab and numpy\n"
     ]
    }
   ],
   "source": [
    "%pylab inline\n"
   ]
  },
  {
   "cell_type": "markdown",
   "metadata": {},
   "source": [
    "<h3>Objective 1:</h3>\n",
    "Connect to the Xtralien"
   ]
  },
  {
   "cell_type": "code",
   "execution_count": 26,
   "metadata": {
    "collapsed": false
   },
   "outputs": [
    {
     "name": "stdout",
     "output_type": "stream",
     "text": [
      "Connected\n",
      "Well done for usuing Linux.\n"
     ]
    }
   ],
   "source": [
    "#Use your connect script from 011\n",
    "from connect import *\n",
    "s = connect_any()"
   ]
  },
  {
   "cell_type": "markdown",
   "metadata": {},
   "source": [
    "<h3>Objective 2:</h3>\n",
    "Measure a voltage-current sweep of and LED\n"
   ]
  },
  {
   "cell_type": "code",
   "execution_count": 27,
   "metadata": {
    "collapsed": false
   },
   "outputs": [
    {
     "data": {
      "text/plain": [
       "23"
      ]
     },
     "execution_count": 27,
     "metadata": {},
     "output_type": "execute_result"
    }
   ],
   "source": [
    "#Use the Xtralien sweep command\n",
    "s.write(b\"smu1 sweep 1.5 0.01 2.3\")"
   ]
  },
  {
   "cell_type": "code",
   "execution_count": 28,
   "metadata": {
    "collapsed": false
   },
   "outputs": [],
   "source": [
    "#read the response\n",
    "datastr = s.readline()"
   ]
  },
  {
   "cell_type": "code",
   "execution_count": 29,
   "metadata": {
    "collapsed": false
   },
   "outputs": [
    {
     "data": {
      "text/plain": [
       "'[1.5012,-5.1498e-06;1.5113,-5.2448e-06;1.5213,-4.9782e-06;1.5311,-4.9439e-06;1.541,-4.6636e-06;1.5511,-4.4552e-06;1.5611,-4.2387e-06;1.5712,-3.9336e-06;1.5812,-3.4582e-06;1.5911,-2.9824e-06;1.6012,-2.3184e-06;1.6112,-1.2217e-06;1.6213,-4.0884e-07;1.6312,8.2985e-07;1.6413,2.4947e-06;1.6512,4.4003e-06;1.6613,6.9075e-06;1.6712,9.9881e-06;1.6809,1.3747e-05;1.6909,1.8412e-05;1.7011,2.4126e-05;1.711,3.137e-05;1.7209,4.0504e-05;1.7309,5.1875e-05;1.741,6.5856e-05;1.7511,8.3096e-05;1.7609,0.0001044;1.771,0.00013062;1.7811,0.00016337;1.791,0.00020358;1.8009,0.00025242;1.8109,0.00031279;1.8208,0.00038724;1.8309,0.00047876;1.8404,0.00058595;1.8502,0.00072221;1.8601,0.00089023;1.87,0.0010958;1.8797,0.0013445;1.8894,0.0016471;1.8989,0.0020138;1.9086,0.0024567;1.918,0.0029803;1.9274,0.003602;1.9366,0.0043328;1.9459,0.0051917;1.9549,0.0061815;1.9637,0.0073092;1.9723,0.0085989;1.9807,0.010004;1.989,0.011638;1.9971,0.013438;2.005,0.01543;2.0128,0.017633;2.0203,0.020045;2.0276,0.022654;2.0347,0.024618;2.0416,0.024618;2.0478,0.024617;2.0538,0.024617;2.0596,0.024616;2.0654,0.024615;2.071,0.024611;2.0764,0.024605;2.0812,0.024597;2.0862,0.024588;2.0908,0.02458;2.0954,0.024572;2.0995,0.024564;2.1036,0.024557;2.1073,0.02455;2.1108,0.024544;2.1141,0.024538;2.1173,0.024532;2.1203,0.024531;2.1232,0.024531;2.1259,0.024531;2.1285,0.024531;2.1311,0.024531;2.1336,0.024531]\\n'"
      ]
     },
     "execution_count": 29,
     "metadata": {},
     "output_type": "execute_result"
    }
   ],
   "source": [
    "datastr"
   ]
  },
  {
   "cell_type": "markdown",
   "metadata": {},
   "source": [
    "<h3>Objective 3:</h3>\n",
    "Plot the data. "
   ]
  },
  {
   "cell_type": "code",
   "execution_count": 30,
   "metadata": {
    "collapsed": false
   },
   "outputs": [],
   "source": [
    "#need to convert raw string data into something useful!\n",
    "import re #will need this\n",
    "\n",
    "def raw_convert(string):\n",
    "    #first remove all characters that are not ,;- or int\n",
    "    string = re.sub('[\\[\\]\\n]', '', string)\n",
    "    \n",
    "    #next split string at to create a list;\n",
    "    data = string.split(';')\n",
    "    \n",
    "    #now split again at ,\n",
    "    data = [x.split(',') for x in data]\n",
    "    \n",
    "    #finally need to convert each string in list to float\n",
    "    data = [[float(y) for y in x] for x in data]\n",
    "\n",
    "    return data"
   ]
  },
  {
   "cell_type": "code",
   "execution_count": 31,
   "metadata": {
    "collapsed": false
   },
   "outputs": [],
   "source": [
    "data = raw_convert(datastr)"
   ]
  },
  {
   "cell_type": "code",
   "execution_count": 32,
   "metadata": {
    "collapsed": false
   },
   "outputs": [],
   "source": [
    "#data"
   ]
  },
  {
   "cell_type": "code",
   "execution_count": 33,
   "metadata": {
    "collapsed": false
   },
   "outputs": [
    {
     "data": {
      "text/plain": [
       "<matplotlib.text.Text at 0x7fcfb2ff6810>"
      ]
     },
     "execution_count": 33,
     "metadata": {},
     "output_type": "execute_result"
    },
    {
     "data": {
      "image/png": "[encoded data removed]",
      "text/plain": [
       "<matplotlib.figure.Figure at 0x7fcfb2f9a590>"
      ]
     },
     "metadata": {},
     "output_type": "display_data"
    }
   ],
   "source": [
    "#from here you can either write the data to file or plot it\n",
    "#remember to transpose before plotting\n",
    "data_trans = transpose(data)\n",
    "x = data_trans[0]\n",
    "y = data_trans[1]*1000 #convert to mA\n",
    "plot(x, y)\n",
    "xlabel('Current, $I$ (mA)')\n",
    "ylabel('Voltage, $V$ (Volts)')"
   ]
  },
  {
   "cell_type": "code",
   "execution_count": 34,
   "metadata": {
    "collapsed": true
   },
   "outputs": [],
   "source": [
    "#If your plot doesn't look like that abve then you've probably got your LED connectede the wrong way around.\n"
   ]
  },
  {
   "cell_type": "markdown",
   "metadata": {},
   "source": [
    "<h3>Objective 4</h3>\n",
    "Estimate $V_d$"
   ]
  },
  {
   "cell_type": "code",
   "execution_count": 35,
   "metadata": {
    "collapsed": false
   },
   "outputs": [
    {
     "data": {
      "image/png": "[encoded data removed]",
      "text/plain": [
       "<matplotlib.figure.Figure at 0x7fcfb2d47910>"
      ]
     },
     "metadata": {},
     "output_type": "display_data"
    }
   ],
   "source": [
    "from ipywidgets import *\n",
    "\n",
    "def regression(mini, maxi):\n",
    "    m, c =polyfit(x[mini:maxi], y[mini:maxi], 1)\n",
    "    return m, c\n",
    "\n",
    "def plot_iv(mini, maxi):\n",
    "    fig = figure()\n",
    "    ax = fig.add_subplot(111)\n",
    "    ax.plot(x, y)\n",
    "    ax.set_xlabel('Current, $I$ (mA)')\n",
    "    ax.set_ylabel('Voltage, $V$ (Volts)')\n",
    "    ax.plot(x[mini:maxi], y[mini:maxi], 'o')\n",
    "    m, c = regression(mini, maxi)\n",
    "    xi = linspace(min(x), max(x), 1000)\n",
    "    yi = m*xi+c\n",
    "    ax.plot(xi, yi, '-', color='red')\n",
    "    #print('$V_d$ = {0} V'.format('test'))\n",
    "    ax.set_ylim([-5, max(y)])\n",
    "    idx = abs(yi-0).argmin()\n",
    "    ax.text(min(x)*1.1, 15, '$V_d$ = {0:.2f} V'.format(xi[idx]))\n",
    "    \n",
    "mini_s = IntSlider(min=0, max=len(x)-1, step=1, value=0)\n",
    "maxi_s = IntSlider(min=0, max=len(x)-1, step = 1,value=len(x)-1)\n",
    "\n",
    "interactive(plot_iv, mini=mini_s, maxi=maxi_s)\n",
    "\n",
    "#This sort of thing is really useful for (alpha.hv)**2 plots and extracting band gaps from transmission data\n",
    "    "
   ]
  },
  {
   "cell_type": "code",
   "execution_count": 36,
   "metadata": {
    "collapsed": false
   },
   "outputs": [
    {
     "data": {
      "text/plain": [
       "[[1.5012, -5.1498e-06],\n",
       " [1.5113, -5.2448e-06],\n",
       " [1.5213, -4.9782e-06],\n",
       " [1.5311, -4.9439e-06],\n",
       " [1.541, -4.6636e-06],\n",
       " [1.5511, -4.4552e-06],\n",
       " [1.5611, -4.2387e-06],\n",
       " [1.5712, -3.9336e-06],\n",
       " [1.5812, -3.4582e-06],\n",
       " [1.5911, -2.9824e-06],\n",
       " [1.6012, -2.3184e-06],\n",
       " [1.6112, -1.2217e-06],\n",
       " [1.6213, -4.0884e-07],\n",
       " [1.6312, 8.2985e-07],\n",
       " [1.6413, 2.4947e-06],\n",
       " [1.6512, 4.4003e-06],\n",
       " [1.6613, 6.9075e-06],\n",
       " [1.6712, 9.9881e-06],\n",
       " [1.6809, 1.3747e-05],\n",
       " [1.6909, 1.8412e-05],\n",
       " [1.7011, 2.4126e-05],\n",
       " [1.711, 3.137e-05],\n",
       " [1.7209, 4.0504e-05],\n",
       " [1.7309, 5.1875e-05],\n",
       " [1.741, 6.5856e-05],\n",
       " [1.7511, 8.3096e-05],\n",
       " [1.7609, 0.0001044],\n",
       " [1.771, 0.00013062],\n",
       " [1.7811, 0.00016337],\n",
       " [1.791, 0.00020358],\n",
       " [1.8009, 0.00025242],\n",
       " [1.8109, 0.00031279],\n",
       " [1.8208, 0.00038724],\n",
       " [1.8309, 0.00047876],\n",
       " [1.8404, 0.00058595],\n",
       " [1.8502, 0.00072221],\n",
       " [1.8601, 0.00089023],\n",
       " [1.87, 0.0010958],\n",
       " [1.8797, 0.0013445],\n",
       " [1.8894, 0.0016471],\n",
       " [1.8989, 0.0020138],\n",
       " [1.9086, 0.0024567],\n",
       " [1.918, 0.0029803],\n",
       " [1.9274, 0.003602],\n",
       " [1.9366, 0.0043328],\n",
       " [1.9459, 0.0051917],\n",
       " [1.9549, 0.0061815],\n",
       " [1.9637, 0.0073092],\n",
       " [1.9723, 0.0085989],\n",
       " [1.9807, 0.010004],\n",
       " [1.989, 0.011638],\n",
       " [1.9971, 0.013438],\n",
       " [2.005, 0.01543],\n",
       " [2.0128, 0.017633],\n",
       " [2.0203, 0.020045],\n",
       " [2.0276, 0.022654],\n",
       " [2.0347, 0.024618],\n",
       " [2.0416, 0.024618],\n",
       " [2.0478, 0.024617],\n",
       " [2.0538, 0.024617],\n",
       " [2.0596, 0.024616],\n",
       " [2.0654, 0.024615],\n",
       " [2.071, 0.024611],\n",
       " [2.0764, 0.024605],\n",
       " [2.0812, 0.024597],\n",
       " [2.0862, 0.024588],\n",
       " [2.0908, 0.02458],\n",
       " [2.0954, 0.024572],\n",
       " [2.0995, 0.024564],\n",
       " [2.1036, 0.024557],\n",
       " [2.1073, 0.02455],\n",
       " [2.1108, 0.024544],\n",
       " [2.1141, 0.024538],\n",
       " [2.1173, 0.024532],\n",
       " [2.1203, 0.024531],\n",
       " [2.1232, 0.024531],\n",
       " [2.1259, 0.024531],\n",
       " [2.1285, 0.024531],\n",
       " [2.1311, 0.024531],\n",
       " [2.1336, 0.024531]]"
      ]
     },
     "execution_count": 36,
     "metadata": {},
     "output_type": "execute_result"
    }
   ],
   "source": [
    "data"
   ]
  },
  {
   "cell_type": "code",
   "execution_count": null,
   "metadata": {
    "collapsed": true
   },
   "outputs": [],
   "source": []
  },
  {
   "cell_type": "code",
   "execution_count": null,
   "metadata": {
    "collapsed": true
   },
   "outputs": [],
   "source": []
  }
 ],
 "metadata": {
  "kernelspec": {
   "display_name": "Python 2",
   "language": "python",
   "name": "python2"
  },
  "language_info": {
   "codemirror_mode": {
    "name": "ipython",
    "version": 2
   },
   "file_extension": ".py",
   "mimetype": "text/x-python",
   "name": "python",
   "nbconvert_exporter": "python",
   "pygments_lexer": "ipython2",
   "version": "2.7.6"
  }
 },
 "nbformat": 4,
 "nbformat_minor": 0
}
