{
 "cells": [
  {
   "cell_type": "code",
   "execution_count": 1,
   "metadata": {
    "collapsed": false
   },
   "outputs": [
    {
     "name": "stdout",
     "output_type": "stream",
     "text": [
      "Populating the interactive namespace from numpy and matplotlib\n"
     ]
    }
   ],
   "source": [
    "%pylab inline"
   ]
  },
  {
   "cell_type": "code",
   "execution_count": 2,
   "metadata": {
    "collapsed": false
   },
   "outputs": [],
   "source": [
    "import getdata\n",
    "\n",
    "d = getdata.data_dict('jv.txt', delim=' ')"
   ]
  },
  {
   "cell_type": "code",
   "execution_count": 34,
   "metadata": {
    "collapsed": false
   },
   "outputs": [],
   "source": [
    "data = d.get('data')\n",
    "header=d.get('headers')"
   ]
  },
  {
   "cell_type": "code",
   "execution_count": 4,
   "metadata": {
    "collapsed": false
   },
   "outputs": [],
   "source": [
    "from scipy.optimize import minimize"
   ]
  },
  {
   "cell_type": "code",
   "execution_count": 5,
   "metadata": {
    "collapsed": false
   },
   "outputs": [],
   "source": [
    "T = 300\n",
    "k = 1.38e-23\n",
    "kT = k*T\n",
    "q = 1.602e-19\n",
    "\n",
    "def fun1(x, y, r, rshunt, I0, n):\n",
    "    value = (x - shockley(x, y, r, rshunt, I0, n))**2\n",
    "    return value\n",
    "                "
   ]
  },
  {
   "cell_type": "code",
   "execution_count": 42,
   "metadata": {
    "collapsed": false
   },
   "outputs": [],
   "source": [
    "V = data[0]"
   ]
  },
  {
   "cell_type": "code",
   "execution_count": 43,
   "metadata": {
    "collapsed": false
   },
   "outputs": [],
   "source": [
    "def shockley(I, V, r, rshunt, I0, n):\n",
    "    units=1e-12\n",
    "    value = I0*units*(exp((q*(V-(I*r)))/(n*kT))-1)+(V-(I*r))/10**rshunt\n",
    "    return value"
   ]
  },
  {
   "cell_type": "code",
   "execution_count": 51,
   "metadata": {
    "collapsed": false
   },
   "outputs": [
    {
     "data": {
      "image/png": "[encoded data removed]",
      "text/plain": [
       "<matplotlib.figure.Figure at 0x7f1a7575cbd0>"
      ]
     },
     "metadata": {},
     "output_type": "display_data"
    }
   ],
   "source": [
    "from ipywidgets import *\n",
    "\n",
    "area = 0.25\n",
    "\n",
    "def plotJV(r, rshunt, I0, n, JL):\n",
    "    \n",
    "    I = []\n",
    "    for i in range(len(V)):\n",
    "        res = minimize(fun1, (0), args=(V[i],r,rshunt, I0, n), tol=1e-6, method='nelder-mead')\n",
    "        I.append(res.x[0])\n",
    "        \n",
    "    J = array(I)*1000/area\n",
    "    fig = figure(figsize=(7,6))\n",
    "    ax = fig.add_subplot(111)\n",
    "    ax.plot(data[0], array(data[1])*1000/area, 'o')\n",
    "    ax.plot(V, J-JL)\n",
    "    ax.set_ylabel('$J$, mA.cm$^2$')\n",
    "    ax.set_xlabel('$V$, Volts')\n",
    "    ax.set_ylim([-max(array(data[1])*0.5)*1000/area, max(array(data[1])*1000/area)])\n",
    "    ax.text(-0.8, 10, 'r_series = {0:.2f} Ohm.cm**2\\nr_shunt = {1:.2f} Ohm.cm**2'.format(r*area,area*10**rshunt))\n",
    "    \n",
    "    \n",
    "    \n",
    "r_s = FloatSlider(min=0, max=10, step=0.01, value=0)\n",
    "rshunt_s = FloatSlider(min=0, max=4, value=4, step=0.01)\n",
    "rshunt_s.description = 'log(shunt)'\n",
    "I0_s = FloatSlider(min=1, max=1000, step=10, value=1)\n",
    "n_s = FloatSlider(min=1, max=3, step=0.1, value = 1.5)\n",
    "JL_s = FloatSlider(min=0, max=30, step = 0.1, value=0)\n",
    "\n",
    "interactive(plotJV, r=r_s, rshunt = rshunt_s, I0=I0_s, n=n_s, JL=JL_s)"
   ]
  },
  {
   "cell_type": "code",
   "execution_count": 100,
   "metadata": {
    "collapsed": false
   },
   "outputs": [],
   "source": [
    "#want to take slider parameters and fit to data\n",
    "#also want to get cell parameters \n",
    "\n",
    "def Jmod(r, rshunt, I0, n, JL):\n",
    "    I = []\n",
    "    for i in range(len(V)):\n",
    "        res = minimize(fun1, (0), args=(V[i],r,rshunt, I0, n), tol=1e-6, method='nelder-mead')\n",
    "        I.append(res.x[0])\n",
    "        \n",
    "    J = array(I)*1000/area - JL\n",
    "    return J"
   ]
  },
  {
   "cell_type": "code",
   "execution_count": 105,
   "metadata": {
    "collapsed": false
   },
   "outputs": [],
   "source": [
    "J_model = Jmod(r_s.value, rshunt_s.value, I0_s.value, n_s.value, JL_s.value)\n",
    "len(J_model), len(data[1])\n",
    "V = data[0]"
   ]
  },
  {
   "cell_type": "code",
   "execution_count": null,
   "metadata": {
    "collapsed": false
   },
   "outputs": [],
   "source": [
    "#p = [r, rshunt, I0, n, JL]\n",
    "\n",
    "def bigmin(p):\n",
    "    r = p[0]\n",
    "    rshunt = p[1]\n",
    "    I0 = p[2]\n",
    "    n = p[3]\n",
    "    JL = p[4]\n",
    "    \n",
    "    Jmodel = Jmod(r, rshunt, I0, n, JL)\n",
    "    value = sum((Jmodel-array(data[1])*1000/area)**2)\n",
    "    return value"
   ]
  },
  {
   "cell_type": "code",
   "execution_count": 114,
   "metadata": {
    "collapsed": false
   },
   "outputs": [],
   "source": [
    "p  = [r_s.value, rshunt_s.value, I0_s.value, n_s.value, JL_s.value]"
   ]
  },
  {
   "cell_type": "raw",
   "metadata": {},
   "source": [
    "print bigmin(p)"
   ]
  },
  {
   "cell_type": "code",
   "execution_count": null,
   "metadata": {
    "collapsed": true
   },
   "outputs": [],
   "source": []
  }
 ],
 "metadata": {
  "kernelspec": {
   "display_name": "Python 2",
   "language": "python",
   "name": "python2"
  },
  "language_info": {
   "codemirror_mode": {
    "name": "ipython",
    "version": 2
   },
   "file_extension": ".py",
   "mimetype": "text/x-python",
   "name": "python",
   "nbconvert_exporter": "python",
   "pygments_lexer": "ipython2",
   "version": "2.7.6"
  }
 },
 "nbformat": 4,
 "nbformat_minor": 0
}
